{
 "cells": [
  {
   "cell_type": "code",
   "execution_count": 13,
   "metadata": {
    "collapsed": true
   },
   "outputs": [],
   "source": [
    "from PIL import ImageOps\n",
    "import numpy as np\n",
    "import cv2\n",
    "import tensorflow as tf\n",
    "import matplotlib.pyplot as plt\n",
    "from six.moves import cPickle as pickle\n",
    "#import pickle\n",
    "import os\n",
    "from IPython.display import Image as displayImage\n",
    "from tqdm import tqdm"
   ]
  },
  {
   "cell_type": "code",
   "execution_count": 14,
   "metadata": {
    "collapsed": true
   },
   "outputs": [],
   "source": [
    "data_path = \"cifar/\""
   ]
  },
  {
   "cell_type": "code",
   "execution_count": 15,
   "metadata": {
    "collapsed": true
   },
   "outputs": [],
   "source": [
    "\n",
    "def load_CIFAR_batch(filename):\n",
    "    try:\n",
    "       with open(filename, 'rb') as f:\n",
    "            datadict = pickle.load(f, encoding='bytes')\n",
    "            #print (datadict[b'labels'])\n",
    "            X = datadict[b'data']\n",
    "            Y = datadict[b'labels']\n",
    "            X = (X.reshape(10000, 3, 32, 32).transpose(0,2,3,1).astype(\"float\"))*-1\n",
    "            Y=np.array(Y)\n",
    "            return X,Y\n",
    "    except EOFError:\n",
    "        return {}"
   ]
  },
  {
   "cell_type": "code",
   "execution_count": 16,
   "metadata": {
    "collapsed": true
   },
   "outputs": [],
   "source": [
    "\n",
    "def load_data(path):\n",
    "    xs = []\n",
    "    ys = []\n",
    "    for i in range(1,6):\n",
    "        f = os.path.join(path, 'data_batch_%d' %( i, ) )\n",
    "        X, Y = load_CIFAR_batch(f)\n",
    "        xs.append(X)\n",
    "        ys.append(Y)\n",
    "    X_tr = np.concatenate(xs)\n",
    "    Y_tr = np.concatenate(ys)\n",
    "    del X, Y\n",
    "    X_te , Y_te = load_CIFAR_batch(os.path.join(path, 'test_batch'))\n",
    "    return X_tr, Y_tr, X_te, Y_te"
   ]
  },
  {
   "cell_type": "code",
   "execution_count": 17,
   "metadata": {
    "collapsed": false
   },
   "outputs": [
    {
     "name": "stderr",
     "output_type": "stream",
     "text": [
      "100%|██████████| 4/4 [00:00<00:00, 30727.50it/s]\n"
     ]
    }
   ],
   "source": [
    "X_tr, Y_tr, X_te, Y_te = tqdm(load_data(data_path))"
   ]
  },
  {
   "cell_type": "code",
   "execution_count": 47,
   "metadata": {
    "collapsed": false
   },
   "outputs": [
    {
     "name": "stdout",
     "output_type": "stream",
     "text": [
      "(50000,)\n"
     ]
    }
   ],
   "source": [
    "print (Y_tr.shape)"
   ]
  },
  {
   "cell_type": "code",
   "execution_count": 18,
   "metadata": {
    "collapsed": false
   },
   "outputs": [],
   "source": [
    "def rgb2gray(rgb):\n",
    "    return np.dot(rgb[...,:3], [0.299, 0.587, 0.114])\n",
    "\n",
    "# img = X_tr[2518]\n",
    "\n",
    "# # method1\n",
    "# gray_image = rgb2gray(img)\n",
    "# plt.imshow(gray_image, cmap = plt.get_cmap('gray'))\n",
    "# plt.show()\n",
    "\n",
    "# #method2\n",
    "# gray_image = cv2.cvtColor(img.astype(np.uint8), cv2.COLOR_BGR2GRAY)\n",
    "# plt.imshow(gray_image, cmap = plt.get_cmap('gray'))\n",
    "# plt.show()"
   ]
  },
  {
   "cell_type": "code",
   "execution_count": 25,
   "metadata": {
    "collapsed": true
   },
   "outputs": [],
   "source": [
    "def cvt_all_data(x):\n",
    "    temp = []\n",
    "    for i in x:\n",
    "        temp.append(rgb2gray(i))\n",
    "    return (np.array(temp).astype(np.float32))"
   ]
  },
  {
   "cell_type": "code",
   "execution_count": 27,
   "metadata": {
    "collapsed": false
   },
   "outputs": [
    {
     "name": "stdout",
     "output_type": "stream",
     "text": [
      "(50000, 32, 32)\n"
     ]
    }
   ],
   "source": [
    "#Converting all training and testing data from RGB to GRAY\n",
    "training_data = cvt_all_data(X_tr)\n",
    "print (training_data.shape)\n",
    "test_data = cvt_all_data(X_te)\n",
    "# plt.imshow(training_data[9], cmap = plt.get_cmap('gray'))\n",
    "# plt.show()"
   ]
  },
  {
   "cell_type": "code",
   "execution_count": 28,
   "metadata": {
    "collapsed": false
   },
   "outputs": [
    {
     "name": "stdout",
     "output_type": "stream",
     "text": [
      "[1 2 7]\n",
      "[[ 0.  1.  0.  0.  0.  0.  0.  0.  0.  0.]\n",
      " [ 0.  0.  1.  0.  0.  0.  0.  0.  0.  0.]\n",
      " [ 0.  0.  0.  0.  0.  0.  0.  1.  0.  0.]]\n"
     ]
    }
   ],
   "source": [
    "#converting the labels to one hot\\n\"\n",
    "training_labels = np.zeros((len(Y_tr),10))\n",
    "testing_labels = np.zeros((len(Y_te),10))\n",
    "training_labels[np.arange(len(Y_tr)), Y_tr] = 1\n",
    "testing_labels[np.arange(len(Y_te)), Y_te] = 1\n",
    "print (Y_tr[5:8])\n",
    "print(training_labels[5:8])"
   ]
  },
  {
   "cell_type": "code",
   "execution_count": 29,
   "metadata": {
    "collapsed": true
   },
   "outputs": [],
   "source": [
    "#TENSORFLOW MODEL\n",
    "image_size = 32\n",
    "num_labels = 10\n",
    "num_channels = 3\n",
    "num_imgs = 50000\n",
    "batch_size = 100\n",
    "patch_size = 5\n",
    "num_hidden = 64\n",
    "depth = 16"
   ]
  },
  {
   "cell_type": "code",
   "execution_count": 51,
   "metadata": {
    "collapsed": true
   },
   "outputs": [],
   "source": [
    "def accuracy(predictions, labels):\n",
    "  return (100.0 * np.sum(np.argmax(predictions, 1) == np.argmax(labels, 1))\n",
    "          / predictions.shape[0])"
   ]
  },
  {
   "cell_type": "code",
   "execution_count": 53,
   "metadata": {
    "collapsed": false
   },
   "outputs": [
    {
     "name": "stdout",
     "output_type": "stream",
     "text": [
      "Tensor(\"Conv2D:0\", shape=(100, 16, 16, 16), dtype=float32)\n",
      "Tensor(\"Variable_1/read:0\", shape=(16,), dtype=float32)\n",
      "Tensor(\"Conv2D_2:0\", shape=(10000, 16, 16, 16), dtype=float32)\n",
      "Tensor(\"Variable_1/read:0\", shape=(16,), dtype=float32)\n"
     ]
    }
   ],
   "source": [
    "#placeholder variables to feed data\n",
    "graph = tf.Graph()\n",
    "with graph.as_default():\n",
    "    x = tf.placeholder(tf.float32, shape=[batch_size,image_size,image_size,num_channels])\n",
    "    y = tf.placeholder(tf.float32, shape=[batch_size, num_labels])\n",
    "    testing_data = tf.constant(X_te.astype(np.float32))\n",
    "    l1_weights = tf.Variable(tf.truncated_normal([patch_size,patch_size,num_channels,depth], stddev=0.1))\n",
    "    l1_biases = tf.Variable(tf.constant(0.1, shape=[depth]))\n",
    "    l2_weights = tf.Variable(tf.truncated_normal([patch_size,patch_size,depth,depth], stddev=0.1))\n",
    "    l2_biases = tf.Variable(tf.constant(0.1, shape=[depth]))\n",
    "    \n",
    "    l3_weights = tf.Variable(tf.truncated_normal([image_size // 4 * image_size // 4 * depth, num_hidden], stddev=0.1))\n",
    "    l3_biases = tf.Variable(tf.constant(0.1, shape=[num_hidden]))\n",
    "    \n",
    "    l4_weights = tf.Variable(tf.truncated_normal([num_hidden, num_labels], stddev=0.1))\n",
    "    l4_biases = tf.Variable(tf.constant(0.1, shape=[num_labels]))\n",
    "    \n",
    "    def model(data):\n",
    "        conv = tf.nn.conv2d(data, l1_weights, [1,2,2,1], padding='SAME')\n",
    "        print(conv)\n",
    "        print(l1_biases)\n",
    "        conv_relu = tf.nn.relu(conv + l1_biases)\n",
    "    \n",
    "        conv = tf.nn.conv2d(conv_relu, l2_weights, [1,2,2,1], padding='SAME')\n",
    "        conv_relu = tf.nn.relu(conv + l2_biases)\n",
    "    \n",
    "        shape = conv_relu.get_shape().as_list()\n",
    "        reshape = tf.reshape(conv_relu, [shape[0],shape[1]*shape[2]*shape[3]])\n",
    "        hidden = tf.nn.relu(tf.matmul(reshape, l3_weights) + l3_biases)\n",
    "        return tf.matmul(hidden, l4_weights) + l4_biases\n",
    "    \n",
    "    logits = model(x)\n",
    "    loss = tf.reduce_mean(tf.nn.softmax_cross_entropy_with_logits(labels = y, logits = logits))\n",
    "    optimizer = tf.train.GradientDescentOptimizer(0.01).minimize(loss)\n",
    "    \n",
    "    train_predict = tf.nn.softmax(logits)\n",
    "    test_predict = tf.nn.softmax(model(testing_data))"
   ]
  },
  {
   "cell_type": "code",
   "execution_count": 56,
   "metadata": {
    "collapsed": false
   },
   "outputs": [
    {
     "name": "stdout",
     "output_type": "stream",
     "text": [
      "Session Started\n",
      "Minibatch loss at step 0: 153.647964\n",
      "Minibatch accuracy: 10.0%\n",
      "Minibatch loss at step 50: 2.302588\n",
      "Minibatch accuracy: 7.0%\n",
      "Minibatch loss at step 100: 2.302122\n",
      "Minibatch accuracy: 6.0%\n",
      "Minibatch loss at step 150: 2.302099\n",
      "Minibatch accuracy: 7.0%\n",
      "Minibatch loss at step 200: 2.301855\n",
      "Minibatch accuracy: 12.0%\n",
      "Minibatch loss at step 250: 2.302132\n",
      "Minibatch accuracy: 12.0%\n",
      "Minibatch loss at step 300: 2.302801\n",
      "Minibatch accuracy: 12.0%\n",
      "Minibatch loss at step 350: 2.303208\n",
      "Minibatch accuracy: 8.0%\n",
      "Minibatch loss at step 400: 2.303143\n",
      "Minibatch accuracy: 8.0%\n",
      "Minibatch loss at step 450: 2.303341\n",
      "Minibatch accuracy: 11.0%\n",
      "Minibatch loss at step 500: 2.302658\n",
      "Minibatch accuracy: 12.0%\n",
      "Minibatch loss at step 550: 2.303315\n",
      "Minibatch accuracy: 4.0%\n",
      "Minibatch loss at step 600: 2.303035\n",
      "Minibatch accuracy: 10.0%\n",
      "Minibatch loss at step 650: 2.302177\n",
      "Minibatch accuracy: 15.0%\n",
      "Minibatch loss at step 700: 2.302184\n",
      "Minibatch accuracy: 9.0%\n",
      "Minibatch loss at step 750: 2.302486\n",
      "Minibatch accuracy: 7.0%\n",
      "Minibatch loss at step 800: 2.302618\n",
      "Minibatch accuracy: 10.0%\n",
      "Minibatch loss at step 850: 2.302237\n",
      "Minibatch accuracy: 12.0%\n",
      "Minibatch loss at step 900: 2.302683\n",
      "Minibatch accuracy: 11.0%\n",
      "Minibatch loss at step 950: 2.302543\n",
      "Minibatch accuracy: 5.0%\n",
      "Minibatch loss at step 1000: 2.302900\n",
      "Minibatch accuracy: 7.0%\n",
      "Minibatch loss at step 1050: 2.302602\n",
      "Minibatch accuracy: 8.0%\n",
      "Minibatch loss at step 1100: 2.302634\n",
      "Minibatch accuracy: 12.0%\n",
      "Minibatch loss at step 1150: 2.302522\n",
      "Minibatch accuracy: 9.0%\n",
      "Minibatch loss at step 1200: 2.302162\n",
      "Minibatch accuracy: 11.0%\n",
      "Minibatch loss at step 1250: 2.302525\n",
      "Minibatch accuracy: 17.0%\n",
      "Minibatch loss at step 1300: 2.302675\n",
      "Minibatch accuracy: 10.0%\n",
      "Minibatch loss at step 1350: 2.302856\n",
      "Minibatch accuracy: 8.0%\n",
      "Minibatch loss at step 1400: 2.302556\n",
      "Minibatch accuracy: 13.0%\n",
      "Minibatch loss at step 1450: 2.302295\n",
      "Minibatch accuracy: 12.0%\n",
      "Minibatch loss at step 1500: 2.302878\n",
      "Minibatch accuracy: 7.0%\n",
      "Minibatch loss at step 1550: 2.302577\n",
      "Minibatch accuracy: 9.0%\n",
      "Minibatch loss at step 1600: 2.302631\n",
      "Minibatch accuracy: 13.0%\n",
      "Minibatch loss at step 1650: 2.302719\n",
      "Minibatch accuracy: 9.0%\n",
      "Minibatch loss at step 1700: 2.302759\n",
      "Minibatch accuracy: 4.0%\n",
      "Minibatch loss at step 1750: 2.302486\n",
      "Minibatch accuracy: 10.0%\n",
      "Minibatch loss at step 1800: 2.302585\n",
      "Minibatch accuracy: 8.0%\n",
      "Minibatch loss at step 1850: 2.302716\n",
      "Minibatch accuracy: 6.0%\n",
      "Minibatch loss at step 1900: 2.302732\n",
      "Minibatch accuracy: 11.0%\n",
      "Minibatch loss at step 1950: 2.302566\n",
      "Minibatch accuracy: 9.0%\n",
      "Minibatch loss at step 2000: 2.302703\n",
      "Minibatch accuracy: 7.0%\n",
      "Minibatch loss at step 2050: 2.302322\n",
      "Minibatch accuracy: 8.0%\n",
      "Minibatch loss at step 2100: 2.302600\n",
      "Minibatch accuracy: 12.0%\n",
      "Minibatch loss at step 2150: 2.302496\n",
      "Minibatch accuracy: 7.0%\n",
      "Minibatch loss at step 2200: 2.302834\n",
      "Minibatch accuracy: 5.0%\n",
      "Minibatch loss at step 2250: 2.302802\n",
      "Minibatch accuracy: 6.0%\n",
      "Minibatch loss at step 2300: 2.302626\n",
      "Minibatch accuracy: 5.0%\n",
      "Minibatch loss at step 2350: 2.302633\n",
      "Minibatch accuracy: 11.0%\n",
      "Minibatch loss at step 2400: 2.302568\n",
      "Minibatch accuracy: 8.0%\n",
      "Minibatch loss at step 2450: 2.302495\n",
      "Minibatch accuracy: 8.0%\n",
      "Minibatch loss at step 2500: 2.302895\n",
      "Minibatch accuracy: 7.0%\n",
      "Minibatch loss at step 2550: 2.302585\n",
      "Minibatch accuracy: 13.0%\n",
      "Minibatch loss at step 2600: 2.302799\n",
      "Minibatch accuracy: 7.0%\n",
      "Minibatch loss at step 2650: 2.302640\n",
      "Minibatch accuracy: 8.0%\n",
      "Minibatch loss at step 2700: 2.302144\n",
      "Minibatch accuracy: 16.0%\n",
      "Minibatch loss at step 2750: 2.302500\n",
      "Minibatch accuracy: 12.0%\n",
      "Minibatch loss at step 2800: 2.302655\n",
      "Minibatch accuracy: 8.0%\n",
      "Minibatch loss at step 2850: 2.302716\n",
      "Minibatch accuracy: 10.0%\n",
      "Minibatch loss at step 2900: 2.302739\n",
      "Minibatch accuracy: 6.0%\n",
      "Minibatch loss at step 2950: 2.302114\n",
      "Minibatch accuracy: 10.0%\n",
      "Minibatch loss at step 3000: 2.302529\n",
      "Minibatch accuracy: 8.0%\n",
      "Minibatch loss at step 3050: 2.302019\n",
      "Minibatch accuracy: 12.0%\n",
      "Minibatch loss at step 3100: 2.302413\n",
      "Minibatch accuracy: 16.0%\n",
      "Minibatch loss at step 3150: 2.302443\n",
      "Minibatch accuracy: 11.0%\n",
      "Minibatch loss at step 3200: 2.302737\n",
      "Minibatch accuracy: 12.0%\n",
      "Minibatch loss at step 3250: 2.302698\n",
      "Minibatch accuracy: 16.0%\n",
      "Minibatch loss at step 3300: 2.302706\n",
      "Minibatch accuracy: 9.0%\n",
      "Minibatch loss at step 3350: 2.302415\n",
      "Minibatch accuracy: 12.0%\n",
      "Minibatch loss at step 3400: 2.302670\n",
      "Minibatch accuracy: 4.0%\n",
      "Minibatch loss at step 3450: 2.302699\n",
      "Minibatch accuracy: 8.0%\n",
      "Minibatch loss at step 3500: 2.302651\n",
      "Minibatch accuracy: 9.0%\n",
      "Minibatch loss at step 3550: 2.302847\n",
      "Minibatch accuracy: 5.0%\n",
      "Minibatch loss at step 3600: 2.302686\n",
      "Minibatch accuracy: 7.0%\n",
      "Minibatch loss at step 3650: 2.303006\n",
      "Minibatch accuracy: 9.0%\n",
      "Minibatch loss at step 3700: 2.302717\n",
      "Minibatch accuracy: 6.0%\n",
      "Minibatch loss at step 3750: 2.302679\n",
      "Minibatch accuracy: 13.0%\n",
      "Minibatch loss at step 3800: 2.302414\n",
      "Minibatch accuracy: 11.0%\n",
      "Minibatch loss at step 3850: 2.302672\n",
      "Minibatch accuracy: 8.0%\n",
      "Minibatch loss at step 3900: 2.302481\n",
      "Minibatch accuracy: 12.0%\n",
      "Minibatch loss at step 3950: 2.303062\n",
      "Minibatch accuracy: 3.0%\n",
      "Minibatch loss at step 4000: 2.302880\n",
      "Minibatch accuracy: 9.0%\n",
      "Minibatch loss at step 4050: 2.302742\n",
      "Minibatch accuracy: 11.0%\n",
      "Minibatch loss at step 4100: 2.302682\n",
      "Minibatch accuracy: 9.0%\n",
      "Minibatch loss at step 4150: 2.302401\n",
      "Minibatch accuracy: 12.0%\n",
      "Minibatch loss at step 4200: 2.302567\n",
      "Minibatch accuracy: 8.0%\n",
      "Minibatch loss at step 4250: 2.302745\n",
      "Minibatch accuracy: 6.0%\n",
      "Minibatch loss at step 4300: 2.302752\n",
      "Minibatch accuracy: 10.0%\n",
      "Minibatch loss at step 4350: 2.302337\n",
      "Minibatch accuracy: 10.0%\n",
      "Minibatch loss at step 4400: 2.302619\n",
      "Minibatch accuracy: 9.0%\n",
      "Minibatch loss at step 4450: 2.302808\n",
      "Minibatch accuracy: 10.0%\n",
      "Minibatch loss at step 4500: 2.302636\n",
      "Minibatch accuracy: 12.0%\n",
      "Minibatch loss at step 4550: 2.302587\n",
      "Minibatch accuracy: 9.0%\n",
      "Minibatch loss at step 4600: 2.302468\n",
      "Minibatch accuracy: 7.0%\n",
      "Minibatch loss at step 4650: 2.302526\n",
      "Minibatch accuracy: 14.0%\n",
      "Minibatch loss at step 4700: 2.302496\n",
      "Minibatch accuracy: 10.0%\n",
      "Minibatch loss at step 4750: 2.302470\n",
      "Minibatch accuracy: 14.0%\n",
      "Minibatch loss at step 4800: 2.302637\n",
      "Minibatch accuracy: 9.0%\n",
      "Minibatch loss at step 4850: 2.302603\n",
      "Minibatch accuracy: 9.0%\n",
      "Minibatch loss at step 4900: 2.302437\n",
      "Minibatch accuracy: 13.0%\n",
      "Minibatch loss at step 4950: 2.302624\n",
      "Minibatch accuracy: 11.0%\n",
      "Test accuracy: 10.0%\n"
     ]
    }
   ],
   "source": [
    "num_steps = 5000\n",
    "with tf.Session(graph=graph) as sess:\n",
    "    sess.run(tf.global_variables_initializer())\n",
    "    print (\"Session Started\")\n",
    "    for step in range(num_steps):\n",
    "        offset = step*batch_size % (training_labels.shape[0] - batch_size)\n",
    "        batch_data = X_tr[offset:(offset+batch_size), : , : , :]\n",
    "        batch_labels = training_labels[offset:(offset+batch_size),: ]\n",
    "        fdict = {x:batch_data, y:batch_labels}\n",
    "        _ , l, predictions = sess.run([optimizer, loss, train_predict], feed_dict=fdict)\n",
    "        if step % 50 == 0:\n",
    "            print('Minibatch loss at step %d: %f' % (step, l))\n",
    "            print('Minibatch accuracy: %.1f%%' % accuracy(predictions, batch_labels))\n",
    "    print('Test accuracy: %.1f%%' % accuracy(test_predict.eval(), testing_labels))\n",
    "            "
   ]
  },
  {
   "cell_type": "code",
   "execution_count": null,
   "metadata": {
    "collapsed": true
   },
   "outputs": [],
   "source": []
  }
 ],
 "metadata": {
  "kernelspec": {
   "display_name": "Python 3",
   "language": "python",
   "name": "python3"
  },
  "language_info": {
   "codemirror_mode": {
    "name": "ipython",
    "version": 3
   },
   "file_extension": ".py",
   "mimetype": "text/x-python",
   "name": "python",
   "nbconvert_exporter": "python",
   "pygments_lexer": "ipython3",
   "version": "3.5.2"
  }
 },
 "nbformat": 4,
 "nbformat_minor": 2
}
