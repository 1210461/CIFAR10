{
 "cells": [
  {
   "cell_type": "code",
   "execution_count": 1,
   "metadata": {
    "collapsed": true,
    "deletable": true,
    "editable": true
   },
   "outputs": [],
   "source": [
    "from PIL import ImageOps\n",
    "import numpy as np\n",
    "import cv2\n",
    "import tensorflow as tf\n",
    "import matplotlib.pyplot as plt\n",
    "from six.moves import cPickle as pickle\n",
    "#import pickle\n",
    "import os\n",
    "from IPython.display import Image as displayImage\n",
    "from tqdm import tqdm"
   ]
  },
  {
   "cell_type": "code",
   "execution_count": 2,
   "metadata": {
    "collapsed": true,
    "deletable": true,
    "editable": true
   },
   "outputs": [],
   "source": [
    "data_path = \"cifar/\""
   ]
  },
  {
   "cell_type": "code",
   "execution_count": 4,
   "metadata": {
    "collapsed": true,
    "deletable": true,
    "editable": true
   },
   "outputs": [],
   "source": [
    "\n",
    "def load_CIFAR_batch(filename):\n",
    "    try:\n",
    "       with open(filename, 'rb') as f:\n",
    "            datadict = pickle.load(f, encoding='bytes')\n",
    "            #print (datadict[b'labels'])\n",
    "            X = datadict[b'data']\n",
    "            Y = datadict[b'labels']\n",
    "            X = (X.reshape(10000, 3, 32, 32).transpose(0,2,3,1).astype(\"float\"))*-1\n",
    "            Y=np.array(Y)\n",
    "            return X,Y\n",
    "    except EOFError:\n",
    "        return {}"
   ]
  },
  {
   "cell_type": "code",
   "execution_count": 5,
   "metadata": {
    "collapsed": true,
    "deletable": true,
    "editable": true
   },
   "outputs": [],
   "source": [
    "\n",
    "def load_data(path):\n",
    "    xs = []\n",
    "    ys = []\n",
    "    for i in range(1,6):\n",
    "        f = os.path.join(path, 'data_batch_%d' %( i, ) )\n",
    "        X, Y = load_CIFAR_batch(f)\n",
    "        xs.append(X)\n",
    "        ys.append(Y)\n",
    "    X_tr = np.concatenate(xs)\n",
    "    Y_tr = np.concatenate(ys)\n",
    "    del X, Y\n",
    "    X_te , Y_te = load_CIFAR_batch(os.path.join(path, 'test_batch'))\n",
    "    return X_tr, Y_tr, X_te, Y_te"
   ]
  },
  {
   "cell_type": "code",
   "execution_count": 6,
   "metadata": {
    "collapsed": false,
    "deletable": true,
    "editable": true
   },
   "outputs": [
    {
     "name": "stderr",
     "output_type": "stream",
     "text": [
      "100%|██████████| 4/4 [00:00<00:00, 46091.25it/s]\n"
     ]
    }
   ],
   "source": [
    "X_tr, Y_tr, X_te, Y_te = tqdm(load_data(data_path))"
   ]
  },
  {
   "cell_type": "code",
   "execution_count": 8,
   "metadata": {
    "collapsed": false,
    "deletable": true,
    "editable": true
   },
   "outputs": [
    {
     "name": "stdout",
     "output_type": "stream",
     "text": [
      "(50000, 32, 32, 3)\n"
     ]
    }
   ],
   "source": [
    "print (X_tr.shape)"
   ]
  },
  {
   "cell_type": "code",
   "execution_count": 13,
   "metadata": {
    "collapsed": true,
    "deletable": true,
    "editable": true
   },
   "outputs": [],
   "source": [
    "def shuffleData(X_tr, Y_tr):\n",
    "    perm = np.random.permutation(Y_tr.shape[0])\n",
    "    X_tr = X_tr[perm,:,:,:]\n",
    "    Y_tr = Y_tr[perm]\n",
    "    return X_tr, Y_tr"
   ]
  },
  {
   "cell_type": "code",
   "execution_count": 14,
   "metadata": {
    "collapsed": false
   },
   "outputs": [],
   "source": [
    "X_tr, Y_tr = shuffleData(X_tr, Y_tr)"
   ]
  },
  {
   "cell_type": "code",
   "execution_count": 15,
   "metadata": {
    "collapsed": false,
    "deletable": true,
    "editable": true
   },
   "outputs": [],
   "source": [
    "def rgb2gray(rgb):\n",
    "    return np.dot(rgb[...,:3], [0.299, 0.587, 0.114])\n",
    "\n",
    "# img = X_tr[2518]\n",
    "\n",
    "# # method1\n",
    "# gray_image = rgb2gray(img)\n",
    "# plt.imshow(gray_image, cmap = plt.get_cmap('gray'))\n",
    "# plt.show()\n",
    "\n",
    "# #method2\n",
    "# gray_image = cv2.cvtColor(img.astype(np.uint8), cv2.COLOR_BGR2GRAY)\n",
    "# plt.imshow(gray_image, cmap = plt.get_cmap('gray'))\n",
    "# plt.show()"
   ]
  },
  {
   "cell_type": "code",
   "execution_count": 16,
   "metadata": {
    "collapsed": true,
    "deletable": true,
    "editable": true
   },
   "outputs": [],
   "source": [
    "def cvt_all_data(x):\n",
    "    temp = []\n",
    "    for i in x:\n",
    "        temp.append(rgb2gray(i))\n",
    "    return (np.array(temp).astype(np.float32))"
   ]
  },
  {
   "cell_type": "code",
   "execution_count": 17,
   "metadata": {
    "collapsed": false,
    "deletable": true,
    "editable": true
   },
   "outputs": [
    {
     "name": "stdout",
     "output_type": "stream",
     "text": [
      "(50000, 32, 32)\n"
     ]
    }
   ],
   "source": [
    "#Converting all training and testing data from RGB to GRAY\n",
    "training_data = cvt_all_data(X_tr)\n",
    "print (training_data.shape)\n",
    "test_data = cvt_all_data(X_te)\n",
    "# plt.imshow(training_data[9], cmap = plt.get_cmap('gray'))\n",
    "# plt.show()"
   ]
  },
  {
   "cell_type": "code",
   "execution_count": 18,
   "metadata": {
    "collapsed": false,
    "deletable": true,
    "editable": true
   },
   "outputs": [
    {
     "name": "stdout",
     "output_type": "stream",
     "text": [
      "[7 8 1]\n",
      "[[ 0.  0.  0.  0.  0.  0.  0.  1.  0.  0.]\n",
      " [ 0.  0.  0.  0.  0.  0.  0.  0.  1.  0.]\n",
      " [ 0.  1.  0.  0.  0.  0.  0.  0.  0.  0.]]\n"
     ]
    }
   ],
   "source": [
    "#converting the labels to one hot\\n\"\n",
    "training_labels = np.zeros((len(Y_tr),10))\n",
    "testing_labels = np.zeros((len(Y_te),10))\n",
    "training_labels[np.arange(len(Y_tr)), Y_tr] = 1\n",
    "testing_labels[np.arange(len(Y_te)), Y_te] = 1\n",
    "print (Y_tr[5:8])\n",
    "print(training_labels[5:8])"
   ]
  },
  {
   "cell_type": "code",
   "execution_count": 19,
   "metadata": {
    "collapsed": true,
    "deletable": true,
    "editable": true
   },
   "outputs": [],
   "source": [
    "#TENSORFLOW MODEL\n",
    "image_size = 32\n",
    "num_labels = 10\n",
    "num_channels = 3\n",
    "num_imgs = 50000\n",
    "batch_size = 100\n",
    "patch_size = 5\n",
    "num_hidden = 128\n",
    "depth = 16"
   ]
  },
  {
   "cell_type": "code",
   "execution_count": 20,
   "metadata": {
    "collapsed": true,
    "deletable": true,
    "editable": true
   },
   "outputs": [],
   "source": [
    "def accuracy(predictions, labels):\n",
    "  return (100.0 * np.sum(np.argmax(predictions, 1) == np.argmax(labels, 1))\n",
    "          / predictions.shape[0])"
   ]
  },
  {
   "cell_type": "code",
   "execution_count": 21,
   "metadata": {
    "collapsed": false,
    "deletable": true,
    "editable": true
   },
   "outputs": [
    {
     "name": "stdout",
     "output_type": "stream",
     "text": [
      "Tensor(\"Conv2D:0\", shape=(100, 32, 32, 16), dtype=float32)\n",
      "Tensor(\"Variable_1/read:0\", shape=(16,), dtype=float32)\n",
      "Tensor(\"Conv2D_2:0\", shape=(10000, 32, 32, 16), dtype=float32)\n",
      "Tensor(\"Variable_1/read:0\", shape=(16,), dtype=float32)\n"
     ]
    }
   ],
   "source": [
    "#placeholder variables to feed data\n",
    "graph = tf.Graph()\n",
    "with graph.as_default():\n",
    "    x = tf.placeholder(tf.float32, shape=[batch_size,image_size,image_size,num_channels])\n",
    "    y = tf.placeholder(tf.float32, shape=[batch_size, num_labels])\n",
    "    testing_data = tf.constant(X_te.astype(np.float32))\n",
    "    \n",
    "    l1_weights = tf.Variable(tf.truncated_normal([patch_size,patch_size,num_channels,depth], stddev=0.1))\n",
    "    l1_biases = tf.Variable(tf.constant(0.1, shape=[depth]))\n",
    "    \n",
    "    l2_weights = tf.Variable(tf.truncated_normal([patch_size,patch_size,depth,depth], stddev=0.1))\n",
    "    l2_biases = tf.Variable(tf.constant(0.1, shape=[depth]))\n",
    "    \n",
    "    l3_weights = tf.Variable(tf.truncated_normal([image_size // 4 * image_size // 4 * depth, num_hidden], stddev=0.1))\n",
    "    l3_biases = tf.Variable(tf.constant(0.1, shape=[num_hidden]))\n",
    "    \n",
    "    l4_weights = tf.Variable(tf.truncated_normal([num_hidden, num_labels], stddev=0.1))\n",
    "    l4_biases = tf.Variable(tf.constant(0.1, shape=[num_labels]))\n",
    "    \n",
    "    def model(data):\n",
    "        conv = tf.nn.conv2d(data, l1_weights, [1,1,1,1], padding='SAME')\n",
    "        print(conv)\n",
    "        print(l1_biases)\n",
    "        conv_relu = tf.nn.relu(conv + l1_biases)\n",
    "        pool1 = tf.nn.max_pool(conv_relu, [1,2,2,1],[1,2,2,1], padding='SAME')\n",
    "    \n",
    "        conv = tf.nn.conv2d(pool1, l2_weights, [1,1,1,1], padding='SAME')\n",
    "        conv_relu = tf.nn.relu(conv + l2_biases)\n",
    "        pool2 = tf.nn.max_pool(conv_relu, [1,2,2,1],[1,2,2,1], padding='SAME')\n",
    "        \n",
    "    \n",
    "        shape = pool2.get_shape().as_list()\n",
    "        reshape = tf.reshape(pool2, [shape[0],shape[1]*shape[2]*shape[3]])\n",
    "        hidden = tf.nn.relu(tf.matmul(reshape, l3_weights) + l3_biases)\n",
    "        return tf.matmul(hidden, l4_weights) + l4_biases\n",
    "    \n",
    "    logits = model(x)\n",
    "    loss = tf.reduce_mean(tf.nn.softmax_cross_entropy_with_logits(labels = y, logits = logits))\n",
    "    optimizer = tf.train.GradientDescentOptimizer(0.005).minimize(loss)\n",
    "    \n",
    "    train_predict = tf.nn.softmax(logits)\n",
    "    test_predict = tf.nn.softmax(model(testing_data))"
   ]
  },
  {
   "cell_type": "code",
   "execution_count": 22,
   "metadata": {
    "collapsed": false,
    "deletable": true,
    "editable": true
   },
   "outputs": [
    {
     "name": "stdout",
     "output_type": "stream",
     "text": [
      "Session Started\n",
      "Minibatch loss at step 0: 312.141022\n",
      "Minibatch accuracy: 5.0%\n",
      "Minibatch loss at step 50: 2.357693\n",
      "Minibatch accuracy: 11.0%\n",
      "Minibatch loss at step 100: 2.348233\n",
      "Minibatch accuracy: 12.0%\n",
      "Minibatch loss at step 150: 2.306668\n",
      "Minibatch accuracy: 12.0%\n",
      "Minibatch loss at step 200: 2.308752\n",
      "Minibatch accuracy: 5.0%\n",
      "Minibatch loss at step 250: 2.315136\n",
      "Minibatch accuracy: 7.0%\n",
      "Minibatch loss at step 300: 2.302676\n",
      "Minibatch accuracy: 7.0%\n",
      "Minibatch loss at step 350: 2.302761\n",
      "Minibatch accuracy: 12.0%\n",
      "Minibatch loss at step 400: 2.305014\n",
      "Minibatch accuracy: 8.0%\n",
      "Minibatch loss at step 450: 2.355713\n",
      "Minibatch accuracy: 12.0%\n",
      "Minibatch loss at step 500: 2.301474\n",
      "Minibatch accuracy: 16.0%\n",
      "Minibatch loss at step 550: 2.358776\n",
      "Minibatch accuracy: 9.0%\n",
      "Minibatch loss at step 600: 2.302050\n",
      "Minibatch accuracy: 8.0%\n",
      "Minibatch loss at step 650: 2.303471\n",
      "Minibatch accuracy: 9.0%\n",
      "Minibatch loss at step 700: 2.303926\n",
      "Minibatch accuracy: 6.0%\n",
      "Minibatch loss at step 750: 2.304495\n",
      "Minibatch accuracy: 7.0%\n",
      "Minibatch loss at step 800: 2.302434\n",
      "Minibatch accuracy: 11.0%\n",
      "Minibatch loss at step 850: 2.301622\n",
      "Minibatch accuracy: 11.0%\n",
      "Minibatch loss at step 900: 2.302015\n",
      "Minibatch accuracy: 8.0%\n",
      "Minibatch loss at step 950: 2.303501\n",
      "Minibatch accuracy: 11.0%\n",
      "Test accuracy: 10.1%\n"
     ]
    }
   ],
   "source": [
    "num_steps = 1000\n",
    "with tf.Session(graph=graph) as sess:\n",
    "    sess.run(tf.global_variables_initializer())\n",
    "    print (\"Session Started\")\n",
    "    for step in range(num_steps):\n",
    "        offset = step*batch_size % (training_labels.shape[0] - batch_size)\n",
    "        batch_data = X_tr[offset:(offset+batch_size), : , : , :]\n",
    "        batch_labels = training_labels[offset:(offset+batch_size),: ]\n",
    "        fdict = {x:batch_data, y:batch_labels}\n",
    "        _ , l, predictions = sess.run([optimizer, loss, train_predict], feed_dict=fdict)\n",
    "        if step % 50 == 0:\n",
    "            print('Minibatch loss at step %d: %f' % (step, l))\n",
    "            print('Minibatch accuracy: %.1f%%' % accuracy(predictions, batch_labels))\n",
    "    print('Test accuracy: %.1f%%' % accuracy(test_predict.eval(), testing_labels))\n",
    "            "
   ]
  },
  {
   "cell_type": "code",
   "execution_count": null,
   "metadata": {
    "collapsed": true,
    "deletable": true,
    "editable": true
   },
   "outputs": [],
   "source": []
  }
 ],
 "metadata": {
  "kernelspec": {
   "display_name": "Python 3",
   "language": "python",
   "name": "python3"
  },
  "language_info": {
   "codemirror_mode": {
    "name": "ipython",
    "version": 3
   },
   "file_extension": ".py",
   "mimetype": "text/x-python",
   "name": "python",
   "nbconvert_exporter": "python",
   "pygments_lexer": "ipython3",
   "version": "3.5.2"
  }
 },
 "nbformat": 4,
 "nbformat_minor": 2
}
